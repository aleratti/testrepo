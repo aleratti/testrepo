{
 "cells": [
  {
   "cell_type": "markdown",
   "id": "e188e38c-ea8d-40e7-9f6e-dddf3edec7d0",
   "metadata": {},
   "source": [
    "# Data Science Tools and Ecosystem"
   ]
  },
  {
   "cell_type": "markdown",
   "id": "ac632385-31ab-4d9d-b10a-e4b1b6835b00",
   "metadata": {},
   "source": [
    "In this notebook, Data Science Tools and Ecosystem are summarized."
   ]
  },
  {
   "cell_type": "markdown",
   "id": "674c1c11-77ee-4f7d-b71f-ac4dadf14b1b",
   "metadata": {},
   "source": [
    "**Objectives:**\n",
    "- List some of the popular languages that Data Scientists.\n",
    "- List some of the commonly used libraries used by Data Scientists.\n",
    "- List some examples of arithmetic expressions in Python."
   ]
  },
  {
   "cell_type": "markdown",
   "id": "6cb8a739-0d4d-4423-adf4-fd2b9ea1561c",
   "metadata": {},
   "source": [
    "Some of the popular languages that Data Scientists use are:\n",
    "1. Python\n",
    "2. R\n",
    "3. C++"
   ]
  },
  {
   "cell_type": "markdown",
   "id": "993328ae-79a3-477e-b7b1-2e3ab46e1762",
   "metadata": {},
   "source": [
    "Some of the commonly used libraries used by Data Scientists include:\n",
    "1. NumPy\n",
    "2. Pandas\n",
    "3. Scikit-learn"
   ]
  },
  {
   "cell_type": "markdown",
   "id": "aa3291dd-4477-46e8-ac6d-d1a668e79ace",
   "metadata": {},
   "source": [
    "| Data Science Tools |\n",
    "|--------------------|\n",
    "|Watson Studio|\n",
    "|Jupyter Lab |\n",
    "|RStudio |"
   ]
  },
  {
   "cell_type": "markdown",
   "id": "a5775d05-59d3-4227-9ec8-b719713f4fb6",
   "metadata": {},
   "source": [
    "### Below are a few examples of evaluating arithmetic expressions in Python"
   ]
  },
  {
   "cell_type": "markdown",
   "id": "586760a7-3405-4888-9fea-cc297100397f",
   "metadata": {},
   "source": [
    "This a simple arithmetic expression to mutiply then add integers"
   ]
  },
  {
   "cell_type": "code",
   "execution_count": 1,
   "id": "f0899450-c75b-441c-a899-78edc3fd1b25",
   "metadata": {},
   "outputs": [
    {
     "data": {
      "text/plain": [
       "17"
      ]
     },
     "execution_count": 1,
     "metadata": {},
     "output_type": "execute_result"
    }
   ],
   "source": [
    "(3*4)+5"
   ]
  },
  {
   "cell_type": "markdown",
   "id": "bbf48897-e8fa-4aa0-a381-43e5c7b14e1e",
   "metadata": {},
   "source": [
    "This will convert 200 minutes to hours by diving by 60"
   ]
  },
  {
   "cell_type": "code",
   "execution_count": 2,
   "id": "b4780c08-11d2-4f30-90f0-957ab67602e1",
   "metadata": {},
   "outputs": [
    {
     "data": {
      "text/plain": [
       "3.3333333333333335"
      ]
     },
     "execution_count": 2,
     "metadata": {},
     "output_type": "execute_result"
    }
   ],
   "source": [
    "200/60"
   ]
  },
  {
   "cell_type": "markdown",
   "id": "daa66d38-5bf1-44f4-b086-f8db07a7e03c",
   "metadata": {},
   "source": [
    "## Author\n",
    "Alessandro"
   ]
  }
 ],
 "metadata": {
  "kernelspec": {
   "display_name": "Python 3 (ipykernel)",
   "language": "python",
   "name": "python3"
  },
  "language_info": {
   "codemirror_mode": {
    "name": "ipython",
    "version": 3
   },
   "file_extension": ".py",
   "mimetype": "text/x-python",
   "name": "python",
   "nbconvert_exporter": "python",
   "pygments_lexer": "ipython3",
   "version": "3.12.8"
  }
 },
 "nbformat": 4,
 "nbformat_minor": 5
}
